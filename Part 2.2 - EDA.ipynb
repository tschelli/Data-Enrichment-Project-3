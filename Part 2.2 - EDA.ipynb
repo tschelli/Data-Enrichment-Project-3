{
 "cells": [
  {
   "cell_type": "markdown",
   "id": "4b664816",
   "metadata": {},
   "source": [
    "# Project 3 - Part 2.2 - EDA \n",
    "\n",
    "- Name: Tyler Schelling\n",
    "- Date Started: 12/21/2022\n",
    "\n",
    "---"
   ]
  },
  {
   "cell_type": "markdown",
   "id": "057276aa",
   "metadata": {},
   "source": [
    "## Specifications\n",
    "\n",
    "- Load in your csv.gz's of results for each year extracted.\n",
    "    1. Concatenate the data into 1 dataframe for the remainder of the analysis.\n",
    "- Once you have your data from the API, they would like you to perform some light EDA to show:\n",
    "    1. How many movies had at least some valid financial information (values > 0 for budget OR revenue)?\n",
    "        - Please exclude any movies with 0's for budget AND revenue from the remaining visualizations.\n",
    "    2. How many movies are there in each of the certification categories (G/PG/PG-13/R)?\n",
    "    3. What is the average revenue per certification category?\n",
    "    4. What is the average budget per certification category?\n",
    "    \n",
    "---"
   ]
  },
  {
   "cell_type": "markdown",
   "id": "783fe62f",
   "metadata": {},
   "source": [
    "## Import Libraries"
   ]
  },
  {
   "cell_type": "code",
   "execution_count": 1,
   "id": "ad0876df",
   "metadata": {},
   "outputs": [],
   "source": [
    "import math\n",
    "import pandas as pd\n",
    "import numpy as np\n",
    "\n",
    "import seaborn as sns\n",
    "import matplotlib.pyplot as plt\n",
    "import matplotlib.lines as lines\n",
    "import matplotlib.patches as patches\n",
    "from matplotlib.patheffects import withStroke\n",
    "\n",
    "import warnings\n",
    "warnings.filterwarnings(\"ignore\")"
   ]
  },
  {
   "cell_type": "code",
   "execution_count": 2,
   "id": "9f64a3ce",
   "metadata": {},
   "outputs": [],
   "source": [
    "pd.set_option('display.float_format', lambda x: '%.0f' % x)"
   ]
  },
  {
   "cell_type": "markdown",
   "id": "126a217e",
   "metadata": {},
   "source": [
    "## Functions"
   ]
  },
  {
   "cell_type": "code",
   "execution_count": 3,
   "id": "4579bf8a",
   "metadata": {},
   "outputs": [],
   "source": [
    "#Barplot creation function based on the economist style plot\n",
    "#Source: https://www.python-graph-gallery.com/web-horizontal-barplot-with-labels-the-economis\n",
    "BLUE = \"#076fa2\"\n",
    "RED = \"#E3120B\"\n",
    "GREY = \"#a2a2a2\"\n",
    "\n",
    "def create_barplot(y, counts, names, df, desc, title='Movies'):\n",
    "    \n",
    "    fig, ax = plt.subplots(figsize=(12, 7))\n",
    "    sns.barplot(x=counts, y=names, data=df, orient=\"h\", color=BLUE, ax=ax)\n",
    "    \n",
    "    if math.ceil(df.max()) > 10000:\n",
    "        max_range = math.ceil(df.max()/10000000)*10000000\n",
    "        div = int(round(max_range/10,-1))\n",
    "        label_update= True\n",
    "    else:\n",
    "        div = 15\n",
    "        label_update = False\n",
    "\n",
    "    ax.xaxis.set_ticks([i * div for i in range(0, 12)])\n",
    "    ax.xaxis.set_ticklabels([i * div for i in range(0, 12)], size=16, \n",
    "                            fontfamily='sans-serif', fontweight=150)\n",
    "    ax.xaxis.set_tick_params(labelbottom=False, labeltop=True, length=0)\n",
    "    \n",
    "    ax.set_xlim((0, div*10))\n",
    "    \n",
    "    if label_update == True:\n",
    "        xlabels = ['${:,.0f}M'.format(x) for x in ax.get_xticks()/1000000]\n",
    "        ax.set_xticklabels(xlabels)\n",
    "\n",
    "    # Set whether axis ticks and gridlines are above or below most artists.\n",
    "    ax.set_axisbelow(True)\n",
    "    ax.grid(axis = \"x\", color=\"#A8BAC4\", lw=1.2)\n",
    "    ax.spines[\"right\"].set_visible(False)\n",
    "    ax.spines[\"top\"].set_visible(False)\n",
    "    ax.spines[\"bottom\"].set_visible(False)\n",
    "    ax.spines[\"left\"].set_lw(1.5)\n",
    "    # This capstyle determines the lines don't go beyond the limit we specified\n",
    "    ax.spines[\"left\"].set_capstyle(\"butt\")\n",
    "\n",
    "    # Hide y labels\n",
    "    ax.yaxis.set_visible(False)\n",
    "    \n",
    "    PAD = 0.6\n",
    "    for name, count, y_pos in zip(names, df[counts], y):\n",
    "        x = 0\n",
    "        color = \"white\"\n",
    "        path_effects = None\n",
    "        if count < 8:\n",
    "            x = count\n",
    "            color = BLUE    \n",
    "            path_effects=[withStroke(linewidth=6, foreground=\"white\")]\n",
    "\n",
    "        ax.text(\n",
    "            x + PAD, y_pos , name, \n",
    "            color=color, fontfamily=\"sans-serif\", fontsize=18, va=\"center\",\n",
    "            path_effects=path_effects\n",
    "        ) \n",
    "        \n",
    "    # Make room on top and bottom\n",
    "    # Note there's no room on the left and right sides\n",
    "    fig.subplots_adjust(left=0.005, right=1, top=0.8, bottom=0.1)\n",
    "\n",
    "    # Add title\n",
    "    fig.text(\n",
    "        0, 0.925, title, \n",
    "        fontsize=22, fontweight=\"bold\", fontfamily=\"sans-serif\"\n",
    "    )\n",
    "    # Add subtitle\n",
    "    fig.text(\n",
    "        0, 0.875, f\"{desc}, 2000-2001\", \n",
    "        fontsize=20, fontfamily=\"sans-serif\"\n",
    "    )\n",
    "\n",
    "    # Add caption\n",
    "    source = \"Sources: IMDB and TMDB\"\n",
    "    fig.text(\n",
    "        0, 0.06, source, color=GREY, \n",
    "        fontsize=14, fontfamily=\"sans-serif\"\n",
    "    )\n",
    "\n",
    "    # Add line and rectangle on top.\n",
    "    fig.add_artist(lines.Line2D([0, 1], [1, 1], lw=3, color=RED, solid_capstyle=\"butt\"))\n",
    "    fig.add_artist(patches.Rectangle((0, 0.975), 0.05, 0.025, color=RED))\n",
    "\n",
    "    # Set facecolor, useful when saving as .png\n",
    "    fig.set_facecolor(\"white\")\n",
    "    \n",
    "    plt.show()"
   ]
  },
  {
   "cell_type": "markdown",
   "id": "a7f99f12",
   "metadata": {},
   "source": [
    "## Load Year Data"
   ]
  },
  {
   "cell_type": "code",
   "execution_count": 4,
   "id": "72cb914c",
   "metadata": {},
   "outputs": [],
   "source": [
    "# Load in the csv.gz's of results for years 2000 and 2001\n",
    "year_2000_df = pd.read_csv(\"Data/final_tmdb_data_2000.csv.gz\")\n",
    "year_2001_df = pd.read_csv(\"Data/final_tmdb_data_2001.csv.gz\")"
   ]
  },
  {
   "cell_type": "markdown",
   "id": "a51b06f8",
   "metadata": {},
   "source": [
    "## Concatenate Dataframe and Export"
   ]
  },
  {
   "cell_type": "code",
   "execution_count": 5,
   "id": "27030384",
   "metadata": {
    "scrolled": true
   },
   "outputs": [
    {
     "name": "stdout",
     "output_type": "stream",
     "text": [
      "<class 'pandas.core.frame.DataFrame'>\n",
      "Int64Index: 2508 entries, 0 to 1292\n",
      "Data columns (total 26 columns):\n",
      " #   Column                 Non-Null Count  Dtype  \n",
      "---  ------                 --------------  -----  \n",
      " 0   imdb_id                2508 non-null   object \n",
      " 1   adult                  2506 non-null   float64\n",
      " 2   backdrop_path          1324 non-null   object \n",
      " 3   belongs_to_collection  197 non-null    object \n",
      " 4   budget                 2506 non-null   float64\n",
      " 5   genres                 2506 non-null   object \n",
      " 6   homepage               173 non-null    object \n",
      " 7   id                     2506 non-null   float64\n",
      " 8   original_language      2506 non-null   object \n",
      " 9   original_title         2506 non-null   object \n",
      " 10  overview               2454 non-null   object \n",
      " 11  popularity             2506 non-null   float64\n",
      " 12  poster_path            2231 non-null   object \n",
      " 13  production_companies   2506 non-null   object \n",
      " 14  production_countries   2506 non-null   object \n",
      " 15  release_date           2491 non-null   object \n",
      " 16  revenue                2506 non-null   float64\n",
      " 17  runtime                2506 non-null   float64\n",
      " 18  spoken_languages       2506 non-null   object \n",
      " 19  status                 2506 non-null   object \n",
      " 20  tagline                1066 non-null   object \n",
      " 21  title                  2506 non-null   object \n",
      " 22  video                  2506 non-null   float64\n",
      " 23  vote_average           2506 non-null   float64\n",
      " 24  vote_count             2506 non-null   float64\n",
      " 25  certification          797 non-null    object \n",
      "dtypes: float64(9), object(17)\n",
      "memory usage: 529.0+ KB\n"
     ]
    }
   ],
   "source": [
    "combined_tmdb_df = pd.concat([year_2000_df, year_2001_df])\n",
    "combined_tmdb_df.info()"
   ]
  },
  {
   "cell_type": "code",
   "execution_count": 6,
   "id": "1e920d77",
   "metadata": {},
   "outputs": [],
   "source": [
    "combined_tmdb_df.to_csv(\"Data/tmdb_results_combined.csv.gz\",compression='gzip',index=False)"
   ]
  },
  {
   "cell_type": "markdown",
   "id": "c2946d78",
   "metadata": {},
   "source": [
    "## Filter Financially Valid Films"
   ]
  },
  {
   "cell_type": "code",
   "execution_count": 7,
   "id": "3924eb37",
   "metadata": {},
   "outputs": [],
   "source": [
    "fin_filter = (combined_tmdb_df['budget'] > 0) | \\\n",
    "             (combined_tmdb_df['revenue'] > 0)"
   ]
  },
  {
   "cell_type": "code",
   "execution_count": 8,
   "id": "cba04192",
   "metadata": {},
   "outputs": [
    {
     "data": {
      "text/plain": [
       "(627, 26)"
      ]
     },
     "metadata": {},
     "output_type": "display_data"
    },
    {
     "data": {
      "text/html": [
       "<div>\n",
       "<style scoped>\n",
       "    .dataframe tbody tr th:only-of-type {\n",
       "        vertical-align: middle;\n",
       "    }\n",
       "\n",
       "    .dataframe tbody tr th {\n",
       "        vertical-align: top;\n",
       "    }\n",
       "\n",
       "    .dataframe thead th {\n",
       "        text-align: right;\n",
       "    }\n",
       "</style>\n",
       "<table border=\"1\" class=\"dataframe\">\n",
       "  <thead>\n",
       "    <tr style=\"text-align: right;\">\n",
       "      <th></th>\n",
       "      <th>imdb_id</th>\n",
       "      <th>adult</th>\n",
       "      <th>backdrop_path</th>\n",
       "      <th>belongs_to_collection</th>\n",
       "      <th>budget</th>\n",
       "      <th>genres</th>\n",
       "      <th>homepage</th>\n",
       "      <th>id</th>\n",
       "      <th>original_language</th>\n",
       "      <th>original_title</th>\n",
       "      <th>...</th>\n",
       "      <th>revenue</th>\n",
       "      <th>runtime</th>\n",
       "      <th>spoken_languages</th>\n",
       "      <th>status</th>\n",
       "      <th>tagline</th>\n",
       "      <th>title</th>\n",
       "      <th>video</th>\n",
       "      <th>vote_average</th>\n",
       "      <th>vote_count</th>\n",
       "      <th>certification</th>\n",
       "    </tr>\n",
       "  </thead>\n",
       "  <tbody>\n",
       "    <tr>\n",
       "      <th>1</th>\n",
       "      <td>tt0113026</td>\n",
       "      <td>0</td>\n",
       "      <td>/vMFs7nw6P0bIV1jDsQpxAieAVnH.jpg</td>\n",
       "      <td>NaN</td>\n",
       "      <td>10000000</td>\n",
       "      <td>[{'id': 35, 'name': 'Comedy'}, {'id': 10402, '...</td>\n",
       "      <td>NaN</td>\n",
       "      <td>62127</td>\n",
       "      <td>en</td>\n",
       "      <td>The Fantasticks</td>\n",
       "      <td>...</td>\n",
       "      <td>0</td>\n",
       "      <td>86</td>\n",
       "      <td>[{'english_name': 'English', 'iso_639_1': 'en'...</td>\n",
       "      <td>Released</td>\n",
       "      <td>Try to remember the first time magic happened</td>\n",
       "      <td>The Fantasticks</td>\n",
       "      <td>0</td>\n",
       "      <td>6</td>\n",
       "      <td>22</td>\n",
       "      <td>NaN</td>\n",
       "    </tr>\n",
       "    <tr>\n",
       "      <th>4</th>\n",
       "      <td>tt0118694</td>\n",
       "      <td>0</td>\n",
       "      <td>/n4GJFGzsc7NinI1VeGDXIcQjtU2.jpg</td>\n",
       "      <td>NaN</td>\n",
       "      <td>150000</td>\n",
       "      <td>[{'id': 18, 'name': 'Drama'}, {'id': 10749, 'n...</td>\n",
       "      <td>NaN</td>\n",
       "      <td>843</td>\n",
       "      <td>cn</td>\n",
       "      <td>花樣年華</td>\n",
       "      <td>...</td>\n",
       "      <td>12854953</td>\n",
       "      <td>99</td>\n",
       "      <td>[{'english_name': 'Cantonese', 'iso_639_1': 'c...</td>\n",
       "      <td>Released</td>\n",
       "      <td>Feel the heat, keep the feeling burning, let t...</td>\n",
       "      <td>In the Mood for Love</td>\n",
       "      <td>0</td>\n",
       "      <td>8</td>\n",
       "      <td>2058</td>\n",
       "      <td>PG</td>\n",
       "    </tr>\n",
       "  </tbody>\n",
       "</table>\n",
       "<p>2 rows × 26 columns</p>\n",
       "</div>"
      ],
      "text/plain": [
       "     imdb_id  adult                     backdrop_path belongs_to_collection  \\\n",
       "1  tt0113026      0  /vMFs7nw6P0bIV1jDsQpxAieAVnH.jpg                   NaN   \n",
       "4  tt0118694      0  /n4GJFGzsc7NinI1VeGDXIcQjtU2.jpg                   NaN   \n",
       "\n",
       "    budget                                             genres homepage    id  \\\n",
       "1 10000000  [{'id': 35, 'name': 'Comedy'}, {'id': 10402, '...      NaN 62127   \n",
       "4   150000  [{'id': 18, 'name': 'Drama'}, {'id': 10749, 'n...      NaN   843   \n",
       "\n",
       "  original_language   original_title  ...  revenue  runtime  \\\n",
       "1                en  The Fantasticks  ...        0       86   \n",
       "4                cn             花樣年華  ... 12854953       99   \n",
       "\n",
       "                                    spoken_languages    status  \\\n",
       "1  [{'english_name': 'English', 'iso_639_1': 'en'...  Released   \n",
       "4  [{'english_name': 'Cantonese', 'iso_639_1': 'c...  Released   \n",
       "\n",
       "                                             tagline                 title  \\\n",
       "1      Try to remember the first time magic happened       The Fantasticks   \n",
       "4  Feel the heat, keep the feeling burning, let t...  In the Mood for Love   \n",
       "\n",
       "   video  vote_average vote_count certification  \n",
       "1      0             6         22           NaN  \n",
       "4      0             8       2058            PG  \n",
       "\n",
       "[2 rows x 26 columns]"
      ]
     },
     "execution_count": 8,
     "metadata": {},
     "output_type": "execute_result"
    }
   ],
   "source": [
    "valid_films = combined_tmdb_df[fin_filter]\n",
    "display(valid_films.shape)\n",
    "valid_films.head(2)"
   ]
  },
  {
   "cell_type": "code",
   "execution_count": 9,
   "id": "4c2125f9",
   "metadata": {},
   "outputs": [],
   "source": [
    "eda_fin_filter = (combined_tmdb_df['budget'] > 0) & \\\n",
    "                 (combined_tmdb_df['revenue'] > 0)"
   ]
  },
  {
   "cell_type": "code",
   "execution_count": 10,
   "id": "bc8161a7",
   "metadata": {},
   "outputs": [
    {
     "data": {
      "text/plain": [
       "(352, 26)"
      ]
     },
     "metadata": {},
     "output_type": "display_data"
    },
    {
     "data": {
      "text/html": [
       "<div>\n",
       "<style scoped>\n",
       "    .dataframe tbody tr th:only-of-type {\n",
       "        vertical-align: middle;\n",
       "    }\n",
       "\n",
       "    .dataframe tbody tr th {\n",
       "        vertical-align: top;\n",
       "    }\n",
       "\n",
       "    .dataframe thead th {\n",
       "        text-align: right;\n",
       "    }\n",
       "</style>\n",
       "<table border=\"1\" class=\"dataframe\">\n",
       "  <thead>\n",
       "    <tr style=\"text-align: right;\">\n",
       "      <th></th>\n",
       "      <th>imdb_id</th>\n",
       "      <th>adult</th>\n",
       "      <th>backdrop_path</th>\n",
       "      <th>belongs_to_collection</th>\n",
       "      <th>budget</th>\n",
       "      <th>genres</th>\n",
       "      <th>homepage</th>\n",
       "      <th>id</th>\n",
       "      <th>original_language</th>\n",
       "      <th>original_title</th>\n",
       "      <th>...</th>\n",
       "      <th>revenue</th>\n",
       "      <th>runtime</th>\n",
       "      <th>spoken_languages</th>\n",
       "      <th>status</th>\n",
       "      <th>tagline</th>\n",
       "      <th>title</th>\n",
       "      <th>video</th>\n",
       "      <th>vote_average</th>\n",
       "      <th>vote_count</th>\n",
       "      <th>certification</th>\n",
       "    </tr>\n",
       "  </thead>\n",
       "  <tbody>\n",
       "    <tr>\n",
       "      <th>4</th>\n",
       "      <td>tt0118694</td>\n",
       "      <td>0</td>\n",
       "      <td>/n4GJFGzsc7NinI1VeGDXIcQjtU2.jpg</td>\n",
       "      <td>NaN</td>\n",
       "      <td>150000</td>\n",
       "      <td>[{'id': 18, 'name': 'Drama'}, {'id': 10749, 'n...</td>\n",
       "      <td>NaN</td>\n",
       "      <td>843</td>\n",
       "      <td>cn</td>\n",
       "      <td>花樣年華</td>\n",
       "      <td>...</td>\n",
       "      <td>12854953</td>\n",
       "      <td>99</td>\n",
       "      <td>[{'english_name': 'Cantonese', 'iso_639_1': 'c...</td>\n",
       "      <td>Released</td>\n",
       "      <td>Feel the heat, keep the feeling burning, let t...</td>\n",
       "      <td>In the Mood for Love</td>\n",
       "      <td>0</td>\n",
       "      <td>8</td>\n",
       "      <td>2058</td>\n",
       "      <td>PG</td>\n",
       "    </tr>\n",
       "    <tr>\n",
       "      <th>11</th>\n",
       "      <td>tt0120467</td>\n",
       "      <td>0</td>\n",
       "      <td>/knok3mNReKqPTplnnqz7E4dd7mD.jpg</td>\n",
       "      <td>NaN</td>\n",
       "      <td>120000</td>\n",
       "      <td>[{'id': 18, 'name': 'Drama'}, {'id': 27, 'name...</td>\n",
       "      <td>NaN</td>\n",
       "      <td>19085</td>\n",
       "      <td>en</td>\n",
       "      <td>Vulgar</td>\n",
       "      <td>...</td>\n",
       "      <td>14904</td>\n",
       "      <td>87</td>\n",
       "      <td>[{'english_name': 'English', 'iso_639_1': 'en'...</td>\n",
       "      <td>Released</td>\n",
       "      <td>Everyone loves a clown... some more than others.</td>\n",
       "      <td>Vulgar</td>\n",
       "      <td>0</td>\n",
       "      <td>5</td>\n",
       "      <td>42</td>\n",
       "      <td>R</td>\n",
       "    </tr>\n",
       "  </tbody>\n",
       "</table>\n",
       "<p>2 rows × 26 columns</p>\n",
       "</div>"
      ],
      "text/plain": [
       "      imdb_id  adult                     backdrop_path belongs_to_collection  \\\n",
       "4   tt0118694      0  /n4GJFGzsc7NinI1VeGDXIcQjtU2.jpg                   NaN   \n",
       "11  tt0120467      0  /knok3mNReKqPTplnnqz7E4dd7mD.jpg                   NaN   \n",
       "\n",
       "    budget                                             genres homepage    id  \\\n",
       "4   150000  [{'id': 18, 'name': 'Drama'}, {'id': 10749, 'n...      NaN   843   \n",
       "11  120000  [{'id': 18, 'name': 'Drama'}, {'id': 27, 'name...      NaN 19085   \n",
       "\n",
       "   original_language original_title  ...  revenue  runtime  \\\n",
       "4                 cn           花樣年華  ... 12854953       99   \n",
       "11                en         Vulgar  ...    14904       87   \n",
       "\n",
       "                                     spoken_languages    status  \\\n",
       "4   [{'english_name': 'Cantonese', 'iso_639_1': 'c...  Released   \n",
       "11  [{'english_name': 'English', 'iso_639_1': 'en'...  Released   \n",
       "\n",
       "                                              tagline                 title  \\\n",
       "4   Feel the heat, keep the feeling burning, let t...  In the Mood for Love   \n",
       "11   Everyone loves a clown... some more than others.                Vulgar   \n",
       "\n",
       "    video  vote_average vote_count certification  \n",
       "4       0             8       2058            PG  \n",
       "11      0             5         42             R  \n",
       "\n",
       "[2 rows x 26 columns]"
      ]
     },
     "execution_count": 10,
     "metadata": {},
     "output_type": "execute_result"
    }
   ],
   "source": [
    "eda_films = combined_tmdb_df[eda_fin_filter]\n",
    "display(eda_films.shape)\n",
    "eda_films.head(2)"
   ]
  },
  {
   "cell_type": "markdown",
   "id": "8315218a",
   "metadata": {},
   "source": [
    "## Prepare Data for Visualization"
   ]
  },
  {
   "cell_type": "code",
   "execution_count": 11,
   "id": "45aaf200",
   "metadata": {
    "scrolled": false
   },
   "outputs": [],
   "source": [
    "eda_films.loc[:,'certification'] = eda_films['certification'].replace({np.nan:'Unknown'})"
   ]
  },
  {
   "cell_type": "code",
   "execution_count": 12,
   "id": "ab109c8f",
   "metadata": {},
   "outputs": [
    {
     "data": {
      "text/html": [
       "<div>\n",
       "<style scoped>\n",
       "    .dataframe tbody tr th:only-of-type {\n",
       "        vertical-align: middle;\n",
       "    }\n",
       "\n",
       "    .dataframe tbody tr th {\n",
       "        vertical-align: top;\n",
       "    }\n",
       "\n",
       "    .dataframe thead th {\n",
       "        text-align: right;\n",
       "    }\n",
       "</style>\n",
       "<table border=\"1\" class=\"dataframe\">\n",
       "  <thead>\n",
       "    <tr style=\"text-align: right;\">\n",
       "      <th></th>\n",
       "      <th>counts</th>\n",
       "    </tr>\n",
       "    <tr>\n",
       "      <th>certification</th>\n",
       "      <th></th>\n",
       "    </tr>\n",
       "  </thead>\n",
       "  <tbody>\n",
       "    <tr>\n",
       "      <th>R</th>\n",
       "      <td>142</td>\n",
       "    </tr>\n",
       "    <tr>\n",
       "      <th>PG-13</th>\n",
       "      <td>117</td>\n",
       "    </tr>\n",
       "    <tr>\n",
       "      <th>Unknown</th>\n",
       "      <td>45</td>\n",
       "    </tr>\n",
       "    <tr>\n",
       "      <th>PG</th>\n",
       "      <td>29</td>\n",
       "    </tr>\n",
       "    <tr>\n",
       "      <th>G</th>\n",
       "      <td>13</td>\n",
       "    </tr>\n",
       "    <tr>\n",
       "      <th>NR</th>\n",
       "      <td>6</td>\n",
       "    </tr>\n",
       "  </tbody>\n",
       "</table>\n",
       "</div>"
      ],
      "text/plain": [
       "               counts\n",
       "certification        \n",
       "R                 142\n",
       "PG-13             117\n",
       "Unknown            45\n",
       "PG                 29\n",
       "G                  13\n",
       "NR                  6"
      ]
     },
     "execution_count": 12,
     "metadata": {},
     "output_type": "execute_result"
    }
   ],
   "source": [
    "cert_counts = eda_films['certification'].value_counts()\\\n",
    "    .rename_axis('certification').to_frame('counts')\n",
    "cert_counts"
   ]
  },
  {
   "cell_type": "code",
   "execution_count": 13,
   "id": "7a88be26",
   "metadata": {},
   "outputs": [
    {
     "data": {
      "text/html": [
       "<div>\n",
       "<style scoped>\n",
       "    .dataframe tbody tr th:only-of-type {\n",
       "        vertical-align: middle;\n",
       "    }\n",
       "\n",
       "    .dataframe tbody tr th {\n",
       "        vertical-align: top;\n",
       "    }\n",
       "\n",
       "    .dataframe thead th {\n",
       "        text-align: right;\n",
       "    }\n",
       "</style>\n",
       "<table border=\"1\" class=\"dataframe\">\n",
       "  <thead>\n",
       "    <tr style=\"text-align: right;\">\n",
       "      <th></th>\n",
       "      <th>imdb_id</th>\n",
       "      <th>adult</th>\n",
       "      <th>backdrop_path</th>\n",
       "      <th>belongs_to_collection</th>\n",
       "      <th>budget</th>\n",
       "      <th>genres</th>\n",
       "      <th>homepage</th>\n",
       "      <th>id</th>\n",
       "      <th>original_language</th>\n",
       "      <th>original_title</th>\n",
       "      <th>...</th>\n",
       "      <th>revenue</th>\n",
       "      <th>runtime</th>\n",
       "      <th>spoken_languages</th>\n",
       "      <th>status</th>\n",
       "      <th>tagline</th>\n",
       "      <th>title</th>\n",
       "      <th>video</th>\n",
       "      <th>vote_average</th>\n",
       "      <th>vote_count</th>\n",
       "      <th>certification</th>\n",
       "    </tr>\n",
       "  </thead>\n",
       "  <tbody>\n",
       "    <tr>\n",
       "      <th>4</th>\n",
       "      <td>tt0118694</td>\n",
       "      <td>0</td>\n",
       "      <td>/n4GJFGzsc7NinI1VeGDXIcQjtU2.jpg</td>\n",
       "      <td>NaN</td>\n",
       "      <td>150000</td>\n",
       "      <td>[{'id': 18, 'name': 'Drama'}, {'id': 10749, 'n...</td>\n",
       "      <td>NaN</td>\n",
       "      <td>843</td>\n",
       "      <td>cn</td>\n",
       "      <td>花樣年華</td>\n",
       "      <td>...</td>\n",
       "      <td>12854953</td>\n",
       "      <td>99</td>\n",
       "      <td>[{'english_name': 'Cantonese', 'iso_639_1': 'c...</td>\n",
       "      <td>Released</td>\n",
       "      <td>Feel the heat, keep the feeling burning, let t...</td>\n",
       "      <td>In the Mood for Love</td>\n",
       "      <td>0</td>\n",
       "      <td>8</td>\n",
       "      <td>2058</td>\n",
       "      <td>PG</td>\n",
       "    </tr>\n",
       "    <tr>\n",
       "      <th>11</th>\n",
       "      <td>tt0120467</td>\n",
       "      <td>0</td>\n",
       "      <td>/knok3mNReKqPTplnnqz7E4dd7mD.jpg</td>\n",
       "      <td>NaN</td>\n",
       "      <td>120000</td>\n",
       "      <td>[{'id': 18, 'name': 'Drama'}, {'id': 27, 'name...</td>\n",
       "      <td>NaN</td>\n",
       "      <td>19085</td>\n",
       "      <td>en</td>\n",
       "      <td>Vulgar</td>\n",
       "      <td>...</td>\n",
       "      <td>14904</td>\n",
       "      <td>87</td>\n",
       "      <td>[{'english_name': 'English', 'iso_639_1': 'en'...</td>\n",
       "      <td>Released</td>\n",
       "      <td>Everyone loves a clown... some more than others.</td>\n",
       "      <td>Vulgar</td>\n",
       "      <td>0</td>\n",
       "      <td>5</td>\n",
       "      <td>42</td>\n",
       "      <td>R</td>\n",
       "    </tr>\n",
       "  </tbody>\n",
       "</table>\n",
       "<p>2 rows × 26 columns</p>\n",
       "</div>"
      ],
      "text/plain": [
       "      imdb_id  adult                     backdrop_path belongs_to_collection  \\\n",
       "4   tt0118694      0  /n4GJFGzsc7NinI1VeGDXIcQjtU2.jpg                   NaN   \n",
       "11  tt0120467      0  /knok3mNReKqPTplnnqz7E4dd7mD.jpg                   NaN   \n",
       "\n",
       "    budget                                             genres homepage    id  \\\n",
       "4   150000  [{'id': 18, 'name': 'Drama'}, {'id': 10749, 'n...      NaN   843   \n",
       "11  120000  [{'id': 18, 'name': 'Drama'}, {'id': 27, 'name...      NaN 19085   \n",
       "\n",
       "   original_language original_title  ...  revenue  runtime  \\\n",
       "4                 cn           花樣年華  ... 12854953       99   \n",
       "11                en         Vulgar  ...    14904       87   \n",
       "\n",
       "                                     spoken_languages    status  \\\n",
       "4   [{'english_name': 'Cantonese', 'iso_639_1': 'c...  Released   \n",
       "11  [{'english_name': 'English', 'iso_639_1': 'en'...  Released   \n",
       "\n",
       "                                              tagline                 title  \\\n",
       "4   Feel the heat, keep the feeling burning, let t...  In the Mood for Love   \n",
       "11   Everyone loves a clown... some more than others.                Vulgar   \n",
       "\n",
       "    video  vote_average vote_count certification  \n",
       "4       0             8       2058            PG  \n",
       "11      0             5         42             R  \n",
       "\n",
       "[2 rows x 26 columns]"
      ]
     },
     "execution_count": 13,
     "metadata": {},
     "output_type": "execute_result"
    }
   ],
   "source": [
    "eda_films.head(2)"
   ]
  },
  {
   "cell_type": "code",
   "execution_count": 14,
   "id": "3f5b421c",
   "metadata": {
    "scrolled": true
   },
   "outputs": [
    {
     "data": {
      "text/html": [
       "<div>\n",
       "<style scoped>\n",
       "    .dataframe tbody tr th:only-of-type {\n",
       "        vertical-align: middle;\n",
       "    }\n",
       "\n",
       "    .dataframe tbody tr th {\n",
       "        vertical-align: top;\n",
       "    }\n",
       "\n",
       "    .dataframe thead th {\n",
       "        text-align: right;\n",
       "    }\n",
       "</style>\n",
       "<table border=\"1\" class=\"dataframe\">\n",
       "  <thead>\n",
       "    <tr style=\"text-align: right;\">\n",
       "      <th></th>\n",
       "      <th>mean</th>\n",
       "    </tr>\n",
       "    <tr>\n",
       "      <th>certification</th>\n",
       "      <th></th>\n",
       "    </tr>\n",
       "  </thead>\n",
       "  <tbody>\n",
       "    <tr>\n",
       "      <th>PG</th>\n",
       "      <td>134637333</td>\n",
       "    </tr>\n",
       "    <tr>\n",
       "      <th>G</th>\n",
       "      <td>133216882</td>\n",
       "    </tr>\n",
       "    <tr>\n",
       "      <th>PG-13</th>\n",
       "      <td>111073959</td>\n",
       "    </tr>\n",
       "    <tr>\n",
       "      <th>R</th>\n",
       "      <td>52945475</td>\n",
       "    </tr>\n",
       "    <tr>\n",
       "      <th>Unknown</th>\n",
       "      <td>32497627</td>\n",
       "    </tr>\n",
       "    <tr>\n",
       "      <th>NR</th>\n",
       "      <td>23823316</td>\n",
       "    </tr>\n",
       "  </tbody>\n",
       "</table>\n",
       "</div>"
      ],
      "text/plain": [
       "                   mean\n",
       "certification          \n",
       "PG            134637333\n",
       "G             133216882\n",
       "PG-13         111073959\n",
       "R              52945475\n",
       "Unknown        32497627\n",
       "NR             23823316"
      ]
     },
     "execution_count": 14,
     "metadata": {},
     "output_type": "execute_result"
    }
   ],
   "source": [
    "mean_rev = eda_films.groupby('certification')['revenue']\\\n",
    "    .agg(['mean']).sort_values('mean', ascending = False)\n",
    "mean_rev"
   ]
  },
  {
   "cell_type": "code",
   "execution_count": 15,
   "id": "5352b043",
   "metadata": {
    "scrolled": true
   },
   "outputs": [
    {
     "data": {
      "text/html": [
       "<div>\n",
       "<style scoped>\n",
       "    .dataframe tbody tr th:only-of-type {\n",
       "        vertical-align: middle;\n",
       "    }\n",
       "\n",
       "    .dataframe tbody tr th {\n",
       "        vertical-align: top;\n",
       "    }\n",
       "\n",
       "    .dataframe thead th {\n",
       "        text-align: right;\n",
       "    }\n",
       "</style>\n",
       "<table border=\"1\" class=\"dataframe\">\n",
       "  <thead>\n",
       "    <tr style=\"text-align: right;\">\n",
       "      <th></th>\n",
       "      <th>mean</th>\n",
       "    </tr>\n",
       "    <tr>\n",
       "      <th>certification</th>\n",
       "      <th></th>\n",
       "    </tr>\n",
       "  </thead>\n",
       "  <tbody>\n",
       "    <tr>\n",
       "      <th>PG</th>\n",
       "      <td>53741380</td>\n",
       "    </tr>\n",
       "    <tr>\n",
       "      <th>PG-13</th>\n",
       "      <td>46806815</td>\n",
       "    </tr>\n",
       "    <tr>\n",
       "      <th>G</th>\n",
       "      <td>44000000</td>\n",
       "    </tr>\n",
       "    <tr>\n",
       "      <th>R</th>\n",
       "      <td>27063479</td>\n",
       "    </tr>\n",
       "    <tr>\n",
       "      <th>NR</th>\n",
       "      <td>14783333</td>\n",
       "    </tr>\n",
       "    <tr>\n",
       "      <th>Unknown</th>\n",
       "      <td>13003692</td>\n",
       "    </tr>\n",
       "  </tbody>\n",
       "</table>\n",
       "</div>"
      ],
      "text/plain": [
       "                  mean\n",
       "certification         \n",
       "PG            53741380\n",
       "PG-13         46806815\n",
       "G             44000000\n",
       "R             27063479\n",
       "NR            14783333\n",
       "Unknown       13003692"
      ]
     },
     "execution_count": 15,
     "metadata": {},
     "output_type": "execute_result"
    }
   ],
   "source": [
    "mean_bud = eda_films.groupby('certification')['budget']\\\n",
    "    .agg(['mean']).sort_values('mean', ascending = False)\n",
    "mean_bud"
   ]
  },
  {
   "cell_type": "markdown",
   "id": "1fe2d876",
   "metadata": {},
   "source": [
    "## EDA Visualizations"
   ]
  },
  {
   "cell_type": "code",
   "execution_count": 16,
   "id": "e627b360",
   "metadata": {},
   "outputs": [],
   "source": [
    "y = [i for i in range(len(cert_counts))]"
   ]
  },
  {
   "cell_type": "code",
   "execution_count": 17,
   "id": "6cea1762",
   "metadata": {
    "scrolled": false
   },
   "outputs": [
    {
     "data": {
      "image/png": "[encoded data removed]",
      "text/plain": [
       "<Figure size 1200x700 with 1 Axes>"
      ]
     },
     "metadata": {},
     "output_type": "display_data"
    }
   ],
   "source": [
    "create_barplot(y, \"counts\", cert_counts.index, cert_counts,\\\n",
    "               'Count of Certifications', title='Movie Certifications')"
   ]
  },
  {
   "cell_type": "code",
   "execution_count": 18,
   "id": "28341ff7",
   "metadata": {
    "scrolled": false
   },
   "outputs": [
    {
     "data": {
      "image/png": "[encoded data removed]",
      "text/plain": [
       "<Figure size 1200x700 with 1 Axes>"
      ]
     },
     "metadata": {},
     "output_type": "display_data"
    }
   ],
   "source": [
    "create_barplot(y, \"mean\", mean_rev.index, mean_rev,\\\n",
    "               'Average Revenue by Movie Certification', title='Movie Revenue')"
   ]
  },
  {
   "cell_type": "code",
   "execution_count": 19,
   "id": "abb219a4",
   "metadata": {
    "scrolled": false
   },
   "outputs": [
    {
     "data": {
      "image/png": "[encoded data removed]",
      "text/plain": [
       "<Figure size 1200x700 with 1 Axes>"
      ]
     },
     "metadata": {},
     "output_type": "display_data"
    }
   ],
   "source": [
    "create_barplot(y, \"mean\", mean_bud.index, mean_bud,\\\n",
    "               'Average Budget by Movie Certification', title='Movie Budget')"
   ]
  }
 ],
 "metadata": {
  "kernelspec": {
   "display_name": "Python (dojo-env)",
   "language": "python",
   "name": "dojo-env"
  },
  "language_info": {
   "codemirror_mode": {
    "name": "ipython",
    "version": 3
   },
   "file_extension": ".py",
   "mimetype": "text/x-python",
   "name": "python",
   "nbconvert_exporter": "python",
   "pygments_lexer": "ipython3",
   "version": "3.9.15"
  },
  "toc": {
   "base_numbering": "2.2",
   "nav_menu": {},
   "number_sections": true,
   "sideBar": true,
   "skip_h1_title": false,
   "title_cell": "Table of Contents",
   "title_sidebar": "Contents",
   "toc_cell": false,
   "toc_position": {
    "height": "calc(100% - 180px)",
    "left": "10px",
    "top": "150px",
    "width": "182.188px"
   },
   "toc_section_display": true,
   "toc_window_display": false
  }
 },
 "nbformat": 4,
 "nbformat_minor": 5
}
